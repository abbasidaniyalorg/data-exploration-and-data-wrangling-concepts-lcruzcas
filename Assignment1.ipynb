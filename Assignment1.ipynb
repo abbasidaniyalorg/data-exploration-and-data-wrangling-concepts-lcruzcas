{
 "cells": [
  {
   "cell_type": "markdown",
   "id": "8cdd8e44",
   "metadata": {},
   "source": [
    "# Introduction to Data Science\n",
    "\n",
    "## Lab Assignment"
   ]
  },
  {
   "cell_type": "markdown",
   "id": "2926405f",
   "metadata": {},
   "source": [
    "Before you turn this problem in, make sure everything runs as expected. First, **restart the kernel** (in the menubar, select Kernel $\\rightarrow$ Restart) and then **run all cells** (in the menubar, select Cell $\\rightarrow$ Run All).\n",
    "\n",
    "Make sure you fill in any place that says `YOUR CODE HERE` or \"YOUR ANSWER HERE\", as well as your name, ufid and collaborators below:"
   ]
  },
  {
   "cell_type": "code",
   "execution_count": null,
   "id": "49725bb9",
   "metadata": {},
   "outputs": [],
   "source": [
    "NAME = \"\"\n",
    "COLLABORATORS = \"\"\n",
    "UFID = \"\""
   ]
  },
  {
   "cell_type": "markdown",
   "id": "a6214f56",
   "metadata": {},
   "source": [
    "## Execution of the notebook\n",
    "\n",
    "It is advised to run this notebook in a hosted Jupyter Notebook environment like Google Colab or Kaggle which automatically takes care of the external dependencies.\n",
    "\n",
    "If you want to run the notebook in your local machine, please uncomment and use the following commands to install commonly used packages"
   ]
  },
  {
   "cell_type": "code",
   "execution_count": null,
   "id": "0e57ebc5",
   "metadata": {},
   "outputs": [],
   "source": [
    "# ! pip install jupyter==1.1.1 matplotlib==3.9.3 numpy==2.1.3 pandas==2.2.3 scikit-learn==1.5.2"
   ]
  },
  {
   "cell_type": "markdown",
   "id": "d35bf5fa",
   "metadata": {},
   "source": [
    "---"
   ]
  },
  {
   "cell_type": "markdown",
   "id": "f05a6d43-152e-4b8a-8d24-6a44c860364f",
   "metadata": {},
   "source": [
    "# Data Exploration and Wrangling Assignment\n",
    "\n",
    "The objective of this assignment is to evaluate your understanding of Data Exploration and Data Wrangling concepts, along with your ability to apply them practically using standard Python libraries."
   ]
  },
  {
   "cell_type": "code",
   "execution_count": null,
   "id": "803d86bb-0f02-4ba4-ba4e-b46de37c2ad5",
   "metadata": {},
   "outputs": [],
   "source": [
    "# imports\n",
    "import math\n",
    "from datetime import datetime\n",
    "\n",
    "import pandas as pd\n",
    "import numpy as np\n",
    "import matplotlib.pyplot as plt"
   ]
  },
  {
   "cell_type": "markdown",
   "id": "2ed6d0cc-8967-4f64-abb4-60fd3b4f7f7e",
   "metadata": {},
   "source": [
    "## Assignment\n",
    "\n",
    "You are provided with a dataset containing 1000 records of personal information. The dataset has various inconsistencies, missing values, and data quality issues.\n",
    "\n",
    "### Your Task\n",
    "1. Analyze the Dataset\n",
    "\n",
    "Identify and summarize the inconsistencies or issues present in each column.\n",
    "Provide insights into the distribution of key attributes (e.g., Age, Gender, Income).\n",
    "\n",
    "2. Clean and Fix the Dataset\n",
    "\n",
    "Handle missing values appropriately.\n",
    "Fix inconsistencies in formatting (e.g., non-standard number formats, malformed email addresses).\n",
    "Ensure all columns adhere to valid data types and formats.\n",
    "\n",
    "3. Generate Insights\n",
    "\n",
    "After cleaning, create a summary of trends and patterns in the data.\n",
    "Highlight any relationships or correlations between variables such as Age, Weekly Wage, and Job Status.\n",
    "\n",
    "### Dataset Overview:\n",
    "The dataset includes the following columns:\n",
    "\n",
    "- ID: Unique 7-character alphanumeric identifiers. May contain duplicates\n",
    "- Name: Full names with random capitalization and missing middle names.\n",
    "- Date of Birth: Two date formats with some missing values.\n",
    "- Age: Derived from DOB but has missing or inconsistent entries.\n",
    "- Gender: M/F/O\n",
    "- Body Mass Index (BMI): Includes some missing data.\n",
    "- Address: Concatenated address strings.\n",
    "- Weekly Wage: Ranges from 100 to 10,000, including dirty formats like \"5K\".\n",
    "- Job Status: Student, Employed, or Unemployed.\n",
    "- Profession: Relevant for employed individuals, with some inconsistencies.\n",
    "- Annual Income: Ranges from 5,000 to 500,000, with dirty formats and missing values.\n",
    "- Email Address: Valid and malformed emails.\n",
    "- Contact Number: 11-digit numbers with some non-standard formats.\n",
    "- Marital Status: Married/Unmarried.\n",
    "- \\# of Dependants: Numeric values with occasional non-standard text entries.\n",
    "- Avg Monthly Expenditure: Ranges from 50 to 500,000, including dirty formats."
   ]
  },
  {
   "cell_type": "markdown",
   "id": "754433da-a65b-4b2a-8ddb-6ce0ad06f2d6",
   "metadata": {},
   "source": [
    "## Reading dataset\n",
    "\n",
    "You are given a CSV file. The file is located in the `data` directory under the name `data.csv`.\n",
    "\n",
    "You are required to read it into a pandas DataFrame using the pandas library."
   ]
  },
  {
   "cell_type": "code",
   "execution_count": null,
   "id": "016d5861-979f-4bdf-b321-38b2f5119a87",
   "metadata": {},
   "outputs": [],
   "source": [
    "# Listing files in the assignment for reference\n",
    "import os\n",
    "\n",
    "for dirname, dirnames, filenames in os.walk(\".\"):\n",
    "    # Remove hidden directories from the list of directories to walk\n",
    "    dirnames[:] = [d for d in dirnames if not d.startswith('.')]\n",
    "    \n",
    "    for filename in filenames:\n",
    "        # Check if the file has the desired extensions\n",
    "        if filename.endswith(\".csv\") or filename.endswith(\".ipynb\"):\n",
    "            print(os.path.join(dirname, filename))"
   ]
  },
  {
   "cell_type": "code",
   "execution_count": null,
   "id": "d2642360-d6a8-4fa8-ac75-fcc0f0c12ce5",
   "metadata": {
    "deletable": false,
    "nbgrader": {
     "cell_type": "code",
     "checksum": "fabc9b0e98c7a27a312304ab0ebd5ac3",
     "grade": false,
     "grade_id": "cell-adf63d4cb32428bf",
     "locked": false,
     "schema_version": 3,
     "solution": true,
     "task": false
    }
   },
   "outputs": [],
   "source": [
    "filename = None\n",
    "# YOUR CODE HERE\n",
    "# Placeholder replaced with actual implementation\n",
    "\n",
    "df = None\n",
    "\n",
    "# YOUR CODE HERE\n",
    "# Placeholder replaced with actual implementation\n",
    "\n",
    "df.head()"
   ]
  },
  {
   "cell_type": "code",
   "execution_count": null,
   "id": "74607571-ecd2-4258-b799-89924d45fd83",
   "metadata": {
    "deletable": false,
    "editable": false,
    "nbgrader": {
     "cell_type": "code",
     "checksum": "00d7a6633b3254a8e07e299e837fa25f",
     "grade": true,
     "grade_id": "cell-7b99f0fde7118311",
     "locked": true,
     "points": 2,
     "schema_version": 3,
     "solution": false,
     "task": false
    }
   },
   "outputs": [],
   "source": [
    "assert len(df) == 1000\n",
    "assert set(df.columns) == {'ID', 'Name', 'Date of Birth', 'Age', 'Gender', 'Body Mass Index',\n",
    "       'Address', 'Weekly wage', 'Job status', 'Profession', 'Annual Income',\n",
    "       'Email address', 'Contact Number', 'Marital Status', '# of dependants',\n",
    "       'Avg Monthly Expenditure'}"
   ]
  },
  {
   "cell_type": "markdown",
   "id": "24e797dd-d330-4892-82a7-d2cf5ebd2444",
   "metadata": {},
   "source": [
    "## Data Types of Columns\n",
    "Let us check out the data types of the columns."
   ]
  },
  {
   "cell_type": "code",
   "execution_count": null,
   "id": "c6e6f362-0bb7-4ec0-ae8a-bfc776617823",
   "metadata": {},
   "outputs": [],
   "source": [
    "df.dtypes"
   ]
  },
  {
   "cell_type": "markdown",
   "id": "6ab5ff9d-6938-4151-8f7e-78afe2dc7420",
   "metadata": {},
   "source": [
    "### Observation\n",
    "\n",
    "We see that most of the columns are read as `object` while Age and Body Mass Index have been read as 'float64'.\n",
    "\n",
    "This indicates that pandas was unable to automatically assign appropriate data types to our columns.\n",
    "\n",
    "This usually occurs when our data is dirty. Let us explore the different columns to find and fix the problematic records."
   ]
  },
  {
   "cell_type": "markdown",
   "id": "92a560e0-03f4-4dd0-b2e6-300f6f36c73c",
   "metadata": {},
   "source": [
    "# Data Exploration\n",
    "\n",
    "In this section, we will look at some of the columns and try to find columns with dirty data and clean them using some set rules.\n",
    "\n"
   ]
  },
  {
   "cell_type": "markdown",
   "id": "c48bf582-d09c-4645-9bec-1067c4e3e5a2",
   "metadata": {},
   "source": [
    "## De Duplication\n",
    "\n",
    "Let us start with the most basic task. We want to remove any duplicate records in dataset.\n",
    "\n",
    "Since each record has a unique identifier, we shall use it.\n"
   ]
  },
  {
   "cell_type": "code",
   "execution_count": null,
   "id": "c76dc221-6225-4a7e-999c-77d6df1a70f7",
   "metadata": {
    "deletable": false,
    "nbgrader": {
     "cell_type": "code",
     "checksum": "50bde4e4d4e12e6d1a5cfbd211189ff4",
     "grade": false,
     "grade_id": "cell-1afedfbe7ff7a486",
     "locked": false,
     "schema_version": 3,
     "solution": true,
     "task": false
    }
   },
   "outputs": [],
   "source": [
    "column_name_for_deduplication = None\n",
    "# YOUR CODE HERE\n",
    "# Placeholder replaced with actual implementation"
   ]
  },
  {
   "cell_type": "code",
   "execution_count": null,
   "id": "e7c0b180-952c-453b-8def-eb49a8b0b292",
   "metadata": {
    "deletable": false,
    "editable": false,
    "nbgrader": {
     "cell_type": "code",
     "checksum": "fd801940ba66514d9227ef7e99d3e394",
     "grade": true,
     "grade_id": "cell-4aa00a9ffc1979f5",
     "locked": true,
     "points": 1,
     "schema_version": 3,
     "solution": false,
     "task": false
    }
   },
   "outputs": [],
   "source": [
    "assert type(column_name_for_deduplication) == str"
   ]
  },
  {
   "cell_type": "markdown",
   "id": "ec8095f5-55d3-4bfa-88eb-b6efb669863d",
   "metadata": {},
   "source": [
    "**TASK**: We want to keep the last (latest) record in the set of duplicates and drop all the other duplicate records."
   ]
  },
  {
   "cell_type": "code",
   "execution_count": null,
   "id": "8ae01239-a19c-40af-a0ef-843fefccf1b3",
   "metadata": {
    "deletable": false,
    "nbgrader": {
     "cell_type": "code",
     "checksum": "42ad4a91e01759cf74b7672b9acf899f",
     "grade": false,
     "grade_id": "cell-a2efd815d6fb32ab",
     "locked": false,
     "schema_version": 3,
     "solution": true,
     "task": false
    }
   },
   "outputs": [],
   "source": [
    "# Hint: Check out the drop_duplicates API here: https://pandas.pydata.org/docs/reference/api/pandas.DataFrame.drop_duplicates.html\n",
    "de_duplicated_df = df.drop_duplicates()\n",
    "\n",
    "# YOUR CODE HERE\n",
    "# Placeholder replaced with actual implementation"
   ]
  },
  {
   "cell_type": "code",
   "execution_count": null,
   "id": "ff9c8191-eb92-49a2-84c0-21e4c0b68548",
   "metadata": {
    "deletable": false,
    "editable": false,
    "nbgrader": {
     "cell_type": "code",
     "checksum": "014dec535b701af15d5c62c731e1e5f8",
     "grade": true,
     "grade_id": "cell-553e87d23299f8a3",
     "locked": true,
     "points": 1,
     "schema_version": 3,
     "solution": false,
     "task": false
    }
   },
   "outputs": [],
   "source": [
    "assert type(de_duplicated_df) == pd.DataFrame\n",
    "assert len(de_duplicated_df) == 935"
   ]
  },
  {
   "cell_type": "markdown",
   "id": "e7847b86-db7c-4f18-b3b9-964d0cf00fb5",
   "metadata": {},
   "source": [
    "**Bonus (Extra Credit)**: If the last record has empty / missing values, we want to fill them using the subsequent records going from bottom to up."
   ]
  },
  {
   "cell_type": "code",
   "execution_count": null,
   "id": "8b8691a6-1838-4a1c-8e00-cfa6f6229915",
   "metadata": {
    "deletable": false,
    "nbgrader": {
     "cell_type": "code",
     "checksum": "573e80adb1cbbde0334e07d6a3c167ef",
     "grade": false,
     "grade_id": "cell-81a1fb6480f50d58",
     "locked": false,
     "schema_version": 3,
     "solution": true,
     "task": false
    }
   },
   "outputs": [],
   "source": [
    "# Hint: Check out the drop_duplicates API here: https://pandas.pydata.org/docs/reference/api/pandas.DataFrame.drop_duplicates.html\n",
    "de_duplicated_extra_credit_df = None\n",
    "\n",
    "# YOUR CODE HERE\n",
    "# Placeholder replaced with actual implementation"
   ]
  },
  {
   "cell_type": "code",
   "execution_count": null,
   "id": "794d1564-fd20-4f24-8115-ecedf23b301b",
   "metadata": {
    "deletable": false,
    "editable": false,
    "nbgrader": {
     "cell_type": "code",
     "checksum": "e7fc81ebb061d98101376c6a69f5ca0d",
     "grade": true,
     "grade_id": "cell-2ab42b91aa01ee8b",
     "locked": true,
     "points": 2,
     "schema_version": 3,
     "solution": false,
     "task": false
    }
   },
   "outputs": [],
   "source": [
    "# Extra Credit Test Cases\n",
    "assert len(de_duplicated_extra_credit_df) == 935"
   ]
  },
  {
   "cell_type": "code",
   "execution_count": null,
   "id": "0ad2562b-30dd-44bc-bbbc-2c240b8d9273",
   "metadata": {},
   "outputs": [],
   "source": [
    "# For our analysis below, we will use de_duplicated_df\n",
    "cleaned_df = de_duplicated_df"
   ]
  },
  {
   "cell_type": "markdown",
   "id": "0fafacf9-bbad-4f6f-8e76-1e79487b12c6",
   "metadata": {},
   "source": [
    "## Imputing Data from Related Fields\n",
    "\n",
    "Missing values can often be addressed using data imputation techniques by leveraging information from related fields. In our dataset, this applies to the Date of Birth and Age columns.\n",
    "\n",
    "Since we assume the data is up-to-date, if the Age is missing, it can be calculated using the available Date of Birth. This ensures consistency and completeness in the dataset.\n",
    "\n",
    "However, if the Date of Birth is missing, those records will need to be removed from the dataset."
   ]
  },
  {
   "cell_type": "code",
   "execution_count": null,
   "id": "187dd581-0179-43b3-9f97-e8a6322833ff",
   "metadata": {
    "deletable": false,
    "nbgrader": {
     "cell_type": "code",
     "checksum": "a761c32cfc6a79bf7ce2f6b5dd338c40",
     "grade": false,
     "grade_id": "cell-cc45d3abbd783e08",
     "locked": false,
     "schema_version": 3,
     "solution": true,
     "task": false
    }
   },
   "outputs": [],
   "source": [
    "missing_dob_dropped_df = None\n",
    "\n",
    "# YOUR CODE HERE\n",
    "# Placeholder replaced with actual implementation"
   ]
  },
  {
   "cell_type": "code",
   "execution_count": null,
   "id": "7cd0fe54-cf31-46f2-a059-b6cde97a6982",
   "metadata": {
    "deletable": false,
    "editable": false,
    "nbgrader": {
     "cell_type": "code",
     "checksum": "4e90e14e2ea9744b572c5f16bedd9f39",
     "grade": true,
     "grade_id": "cell-27b6aaa70190c1a9",
     "locked": true,
     "points": 1,
     "schema_version": 3,
     "solution": false,
     "task": false
    }
   },
   "outputs": [],
   "source": [
    "assert type(missing_dob_dropped_df) == pd.DataFrame\n",
    "assert len(missing_dob_dropped_df) == 934\n"
   ]
  },
  {
   "cell_type": "markdown",
   "id": "5fccec2e-e14a-47e4-8730-5e406989e190",
   "metadata": {},
   "source": [
    "### Cleaning noisy data\n",
    "Let us look at some values of the Date of Birth column and checkout what format is being used. Remember, pandas had auto-classified it as object."
   ]
  },
  {
   "cell_type": "code",
   "execution_count": null,
   "id": "4bbf6b52-07de-4650-a11a-f8bb15c0248e",
   "metadata": {},
   "outputs": [],
   "source": [
    "missing_dob_dropped_df[\"Date of Birth\"].head(20)"
   ]
  },
  {
   "cell_type": "code",
   "execution_count": null,
   "id": "8fc70238-a698-4b35-b675-93231b9f3015",
   "metadata": {
    "deletable": false,
    "nbgrader": {
     "cell_type": "code",
     "checksum": "07a115dc2708b58eadbea62083b277f4",
     "grade": false,
     "grade_id": "cell-b50419d89ffbcd51",
     "locked": false,
     "schema_version": 3,
     "solution": true,
     "task": false
    }
   },
   "outputs": [],
   "source": [
    "# Convert to datetime format, handling two different formats. Use pd.to_datetime: https://pandas.pydata.org/docs/reference/api/pandas.to_datetime.html\n",
    "\n",
    "# YOUR CODE HERE\n",
    "# Placeholder replaced with actual implementation\n",
    "\n",
    "missing_dob_dropped_df = missing_dob_dropped_df.dropna(subset=[\"Date of Birth\"]).reset_index(drop=True)\n",
    "\n"
   ]
  },
  {
   "cell_type": "code",
   "execution_count": null,
   "id": "dfa05a1c-e24c-43cf-8222-b64b5373dc63",
   "metadata": {
    "deletable": false,
    "editable": false,
    "nbgrader": {
     "cell_type": "code",
     "checksum": "10e2f51b8a223c0533bb5ec5da57382e",
     "grade": true,
     "grade_id": "cell-8bb7ee85718897a1",
     "locked": true,
     "points": 2,
     "schema_version": 3,
     "solution": false,
     "task": false
    }
   },
   "outputs": [],
   "source": [
    "assert type(missing_dob_dropped_df) == pd.DataFrame\n",
    "assert len(missing_dob_dropped_df) == 796\n"
   ]
  },
  {
   "cell_type": "markdown",
   "id": "31eeff86-a66c-4180-a165-0b033587da05",
   "metadata": {},
   "source": [
    "### Fill missing age values from dob"
   ]
  },
  {
   "cell_type": "code",
   "execution_count": null,
   "id": "1a600c5f-94a9-4f25-8313-2bfab30fa099",
   "metadata": {
    "deletable": false,
    "nbgrader": {
     "cell_type": "code",
     "checksum": "54c2f14cd0787d0fe4c47c7ec2bf6b8b",
     "grade": false,
     "grade_id": "cell-898b339a94bcba76",
     "locked": false,
     "schema_version": 3,
     "solution": true,
     "task": false
    }
   },
   "outputs": [],
   "source": [
    "age_imputed_df = None\n",
    "\n",
    "# YOUR CODE HERE\n",
    "# Placeholder replaced with actual implementation"
   ]
  },
  {
   "cell_type": "code",
   "execution_count": null,
   "id": "416bf209-c258-457f-ae0c-e3084bc667e6",
   "metadata": {
    "deletable": false,
    "editable": false,
    "nbgrader": {
     "cell_type": "code",
     "checksum": "c9c8fe9052aa1a46ebbfc76235a99583",
     "grade": true,
     "grade_id": "cell-0010e6a8c34a9d2d",
     "locked": true,
     "points": 2,
     "schema_version": 3,
     "solution": false,
     "task": false
    }
   },
   "outputs": [],
   "source": [
    "assert isinstance(age_imputed_df, pd.DataFrame)\n",
    "assert len(age_imputed_df) == 796\n"
   ]
  },
  {
   "cell_type": "code",
   "execution_count": null,
   "id": "db7145f8-0ce3-44d8-b36b-8f82f11c1b92",
   "metadata": {},
   "outputs": [],
   "source": [
    "# Convert datatype of age to integer\n",
    "age_imputed_df[\"Age\"] = pd.to_numeric(age_imputed_df[\"Age\"], downcast='integer')"
   ]
  },
  {
   "cell_type": "code",
   "execution_count": null,
   "id": "4be01eed-7023-4135-bff7-630e6327882e",
   "metadata": {},
   "outputs": [],
   "source": [
    "# For our analysis below, we will use de_duplicated_df\n",
    "cleaned_df = age_imputed_df"
   ]
  },
  {
   "cell_type": "markdown",
   "id": "144f9152-fc36-4c23-b2c3-9ecafc66017b",
   "metadata": {},
   "source": [
    "### Cleaning up numerical columns\n",
    "\n",
    "We know that columns like Weekly wage, Annual Income, Avg Monthly Expenditure, # of dependants"
   ]
  },
  {
   "cell_type": "code",
   "execution_count": null,
   "id": "cd5b60ed-50c3-487d-a004-2efb4fdcb42d",
   "metadata": {},
   "outputs": [],
   "source": [
    "cleaned_df['Weekly wage'].head(10)"
   ]
  },
  {
   "cell_type": "code",
   "execution_count": null,
   "id": "f0f30f99-f9a3-4ac2-9ff2-b9c66b74d922",
   "metadata": {},
   "outputs": [],
   "source": [
    "cleaned_df['Annual Income'].head(10)"
   ]
  },
  {
   "cell_type": "code",
   "execution_count": null,
   "id": "8cd4d7b8-35bd-43f9-a788-06d91eb1117d",
   "metadata": {},
   "outputs": [],
   "source": [
    "cleaned_df['# of dependants'].head(10)"
   ]
  },
  {
   "cell_type": "code",
   "execution_count": null,
   "id": "f5a048a7-e4ce-438d-8686-d2e1c686f834",
   "metadata": {},
   "outputs": [],
   "source": [
    "cleaned_df['Avg Monthly Expenditure'].head(10)"
   ]
  },
  {
   "cell_type": "code",
   "execution_count": null,
   "id": "54b2b870-6337-4902-870d-c52997c4af77",
   "metadata": {},
   "outputs": [],
   "source": [
    "cleaned_df['# of dependants'].value_counts()"
   ]
  },
  {
   "cell_type": "markdown",
   "id": "ee9d486e-24f3-4689-a9fe-b7ef1c0dbe22",
   "metadata": {},
   "source": [
    "We notice that there is some dirty data. The format of the numeric values is not correct.\n",
    "\n",
    "We will try to write some clean up logic which will help preserve the data\n"
   ]
  },
  {
   "cell_type": "code",
   "execution_count": null,
   "id": "c1d8140b-661a-47d0-b5ff-48baed8a77ec",
   "metadata": {
    "deletable": false,
    "nbgrader": {
     "cell_type": "code",
     "checksum": "e2ca2287b3eb1d403db1def594c51b92",
     "grade": false,
     "grade_id": "cell-8c0c3f29340b5e65",
     "locked": false,
     "schema_version": 3,
     "solution": true,
     "task": false
    }
   },
   "outputs": [],
   "source": [
    "numeric_columns = ['Weekly wage', 'Annual Income', '# of dependants', 'Avg Monthly Expenditure']\n",
    "\n",
    "cleaned_df_with_numeric_values = cleaned_df.copy()\n",
    "\n",
    "for column in numeric_columns:\n",
    "    cleaned_values = []\n",
    "    for record in cleaned_df[column]:\n",
    "        try:\n",
    "            # Remove commas\n",
    "            # YOUR CODE HERE\n",
    "            # Placeholder replaced with actual implementation\n",
    "\n",
    "            # Handle 'K' notation\n",
    "            if \"k\" in record.lower():\n",
    "                # YOUR CODE HERE\n",
    "                # Placeholder replaced with actual implementation\n",
    "\n",
    "            # Convert to integer if possible\n",
    "            record = float(record)\n",
    "        except ValueError as e:\n",
    "            record = None\n",
    "        cleaned_values.append(record)\n",
    "    \n",
    "    # Update the DataFrame column\n",
    "    cleaned_df_with_numeric_values.loc[:, column] = cleaned_values"
   ]
  },
  {
   "cell_type": "code",
   "execution_count": null,
   "id": "22cc7473-3bfc-4e4d-9bff-377b83a4060f",
   "metadata": {},
   "outputs": [],
   "source": [
    "for col in numeric_columns: \n",
    "    cleaned_df_with_numeric_values[col] = pd.to_numeric(cleaned_df_with_numeric_values[col])\n",
    "    cleaned_df_with_numeric_values = cleaned_df_with_numeric_values.dropna(subset=[col]).reset_index(drop=True)"
   ]
  },
  {
   "cell_type": "code",
   "execution_count": null,
   "id": "d22704f0-11fa-4082-a049-5c22caad1f8b",
   "metadata": {
    "deletable": false,
    "editable": false,
    "nbgrader": {
     "cell_type": "code",
     "checksum": "bcc70b757e9b74ba2707a20035ca0078",
     "grade": true,
     "grade_id": "cell-14ac08f57318c3d3",
     "locked": true,
     "points": 2,
     "schema_version": 3,
     "solution": false,
     "task": false
    }
   },
   "outputs": [],
   "source": [
    "assert isinstance(cleaned_df_with_numeric_values, pd.DataFrame)\n"
   ]
  },
  {
   "cell_type": "code",
   "execution_count": null,
   "id": "c9aeb5f6-c5fb-4100-80a3-0ff7489bc740",
   "metadata": {},
   "outputs": [],
   "source": [
    "cleaned_df = cleaned_df_with_numeric_values"
   ]
  },
  {
   "cell_type": "markdown",
   "id": "bf7e0157-72df-44e5-bf31-848379882472",
   "metadata": {},
   "source": [
    "## Cleaning Miscellaneous Columns\n",
    "\n",
    "Let us clean columns like Contact Number which have non standard formats"
   ]
  },
  {
   "cell_type": "code",
   "execution_count": null,
   "id": "234b1992-3561-427d-98ec-4a3a7e7c9a81",
   "metadata": {},
   "outputs": [],
   "source": [
    "cleaned_df['Contact Number'].head(20)"
   ]
  },
  {
   "cell_type": "code",
   "execution_count": null,
   "id": "4ba47a74-64c2-45fa-af9d-8a90a5d9fa59",
   "metadata": {
    "deletable": false,
    "nbgrader": {
     "cell_type": "code",
     "checksum": "07885418155c9debfd16ead46e50b328",
     "grade": false,
     "grade_id": "cell-ce70c69431402c0a",
     "locked": false,
     "schema_version": 3,
     "solution": true,
     "task": false
    }
   },
   "outputs": [],
   "source": [
    "cleaned_values = []\n",
    "cleaned_df_with_phone_numbers = cleaned_df.copy()\n",
    "for record in cleaned_df['Contact Number']:\n",
    "    \n",
    "        # Remove +\n",
    "        # YOUR CODE HERE\n",
    "        # Placeholder replaced with actual implementation\n",
    "\n",
    "        # Remove -\n",
    "        # YOUR CODE HERE\n",
    "        # Placeholder replaced with actual implementation\n",
    "\n",
    "        # Remove (\n",
    "        # YOUR CODE HERE\n",
    "        # Placeholder replaced with actual implementation\n",
    "\n",
    "        # Remove )\n",
    "        # YOUR CODE HERE\n",
    "        # Placeholder replaced with actual implementation\n",
    "\n",
    "        if len(record) == 12:\n",
    "            # add 1 at the start\n",
    "            # YOUR CODE HERE\n",
    "            # Placeholder replaced with actual implementation\n",
    "\n",
    "        if len(record) == 13:\n",
    "            # Convert to integer if possible\n",
    "            try:    \n",
    "                record = int(record)\n",
    "            except ValueError as e:\n",
    "                print(e)\n",
    "                record = None\n",
    "        else:\n",
    "            record = None\n",
    "\n",
    "        cleaned_values.append(record)\n",
    "cleaned_df_with_phone_numbers.loc[:, 'Contact Number'] = cleaned_values\n",
    "cleaned_df_with_phone_numbers['Contact Number'] = pd.to_numeric(cleaned_df_with_phone_numbers['Contact Number'])\n",
    "cleaned_df_with_phone_numbers = cleaned_df_with_phone_numbers.dropna(subset=[\"Contact Number\"]).reset_index(drop=True)"
   ]
  },
  {
   "cell_type": "code",
   "execution_count": null,
   "id": "39761fe8-9054-400a-af9f-4e10642bbc30",
   "metadata": {
    "deletable": false,
    "editable": false,
    "nbgrader": {
     "cell_type": "code",
     "checksum": "1f127b0d40507ca931721b03f2445969",
     "grade": true,
     "grade_id": "cell-95e32ca5b7bc2c30",
     "locked": true,
     "points": 2,
     "schema_version": 3,
     "solution": false,
     "task": false
    }
   },
   "outputs": [],
   "source": [
    "assert isinstance(cleaned_df_with_phone_numbers, pd.DataFrame)\n",
    "assert len(cleaned_df_with_phone_numbers) == 771\n"
   ]
  },
  {
   "cell_type": "markdown",
   "id": "a257e7c4-74ab-4ee0-90d4-14cefa2b522e",
   "metadata": {},
   "source": [
    "Let us clean up the email column"
   ]
  },
  {
   "cell_type": "code",
   "execution_count": null,
   "id": "dd25fe4e-7565-4e2a-9ae2-bdbd2397124e",
   "metadata": {},
   "outputs": [],
   "source": [
    "cleaned_df_with_phone_numbers['Email address'].head(15)"
   ]
  },
  {
   "cell_type": "code",
   "execution_count": null,
   "id": "e29e0138-3838-4d3b-ad8f-437e48340384",
   "metadata": {
    "deletable": false,
    "nbgrader": {
     "cell_type": "code",
     "checksum": "e8de94ca2be7c10fd65d916c608ca235",
     "grade": false,
     "grade_id": "cell-1e55e8a664f3ae4f",
     "locked": false,
     "schema_version": 3,
     "solution": true,
     "task": false
    }
   },
   "outputs": [],
   "source": [
    "cleaned_df_with_emails = cleaned_df_with_phone_numbers.copy()\n",
    "def clean_email(email):\n",
    "\n",
    "    # Handle missing values\n",
    "    # YOUR CODE HERE\n",
    "    # Placeholder replaced with actual implementation\n",
    "\n",
    "    # Remove leading/trailing spaces\n",
    "    # YOUR CODE HERE\n",
    "    # Placeholder replaced with actual implementation\n",
    "\n",
    "    # Remove invalid emails like \"testemail\", \"jon@\", \"sample@gmail\"\n",
    "    # YOUR CODE HERE\n",
    "    # Placeholder replaced with actual implementation\n",
    "    return email\n",
    "\n",
    "# Apply the cleanup function to the email column\n",
    "cleaned_df_with_emails[\"Email address\"] = cleaned_df_with_emails[\"Email address\"].apply(clean_email)\n",
    "cleaned_df_with_emails = cleaned_df_with_emails.dropna(subset=[\"Email address\"]).reset_index(drop=True)"
   ]
  },
  {
   "cell_type": "code",
   "execution_count": null,
   "id": "26b14583-2ec3-431b-9295-71e44b09ad87",
   "metadata": {
    "deletable": false,
    "editable": false,
    "nbgrader": {
     "cell_type": "code",
     "checksum": "90cedc8a1a76f128d6200f0579afa4ca",
     "grade": true,
     "grade_id": "cell-2f367203f5c91085",
     "locked": true,
     "points": 2,
     "schema_version": 3,
     "solution": false,
     "task": false
    }
   },
   "outputs": [],
   "source": [
    "assert isinstance(cleaned_df_with_emails, pd.DataFrame)\n",
    "assert len(cleaned_df_with_emails) == 762\n"
   ]
  },
  {
   "cell_type": "code",
   "execution_count": null,
   "id": "370b8d5d-3c6e-400f-a098-99a8750e9395",
   "metadata": {},
   "outputs": [],
   "source": [
    "final_clean_df = cleaned_df_with_phone_numbers"
   ]
  },
  {
   "cell_type": "code",
   "execution_count": null,
   "id": "9c2eac12-0465-4498-8b16-c16ad850df8f",
   "metadata": {},
   "outputs": [],
   "source": [
    "final_clean_df.head(10)"
   ]
  },
  {
   "cell_type": "markdown",
   "id": "285a995f-5289-407c-829f-5ec07fe75bdd",
   "metadata": {},
   "source": [
    "### Null Columns\n",
    "\n",
    "Let us check is any are left with null values"
   ]
  },
  {
   "cell_type": "code",
   "execution_count": null,
   "id": "8291412c-5263-4f04-b6b5-44742b49570f",
   "metadata": {},
   "outputs": [],
   "source": [
    "# Check columns with null values\n",
    "null_columns = final_clean_df.isnull().sum()\n",
    "\n",
    "# Filter to display only columns with null values\n",
    "print(\"Columns with null values:\")\n",
    "print(null_columns[null_columns > 0])"
   ]
  },
  {
   "cell_type": "markdown",
   "id": "e3c6e3d8-b3ef-4d97-abcd-1a7533fc224c",
   "metadata": {},
   "source": [
    "## Inferring Data\n",
    "\n",
    "We notice that in some places the BMI is still missing. Since we do not have a way to calculate it, we will use Mean imputation.\n",
    "\n",
    "To address missing BMI values in the dataset, we will follow these steps:\n",
    "\n",
    "1. **Identify Potential Factors**: Evaluate attributes such as gender, annual income, age, job status, marital status, and the number of dependents, which are hypothesized to have a relationship with BMI.\n",
    "\n",
    "2. **Analyze Relationships**: Compute pairwise correlations between BMI and these attributes to identify the strength and direction of their relationships.\n",
    "\n",
    "3. **Select Key Attributes**: Based on the correlation analysis, choose the top 5 attributes with the highest absolute correlation values (both positive and negative) for further analysis.\n",
    "\n",
    "4. **Impute Missing Values**: For each missing BMI value, calculate the mean BMI within subgroups sharing similar values of the selected attributes. Replace the missing BMI value with the computed mean for the corresponding subgroup.\n"
   ]
  },
  {
   "cell_type": "code",
   "execution_count": null,
   "id": "f02fc504-b1ea-44ce-b434-0c21919405e6",
   "metadata": {
    "deletable": false,
    "nbgrader": {
     "cell_type": "code",
     "checksum": "c0bb8b4bce5e3929d1eedbe8cc4f6a2a",
     "grade": false,
     "grade_id": "cell-65ce00b90ee30ea7",
     "locked": false,
     "schema_version": 3,
     "solution": true,
     "task": false
    }
   },
   "outputs": [],
   "source": [
    "columns_of_interest = ['Gender', 'Annual Income', 'Age', 'Job status', 'Marital Status', '# of dependants', 'Body Mass Index']\n",
    "\n",
    "# since some columns are categorical, we need to encode them\n",
    "categorical_columns = ['Gender', 'Job status', 'Marital Status']\n",
    "\n",
    "# One-Hot Encoding for categorical variables\n",
    "data_encoded = pd.get_dummies(final_clean_df, columns=categorical_columns, drop_first=False)\n",
    "\n",
    "updated_columns_of_interest = [\n",
    "    col for col in data_encoded.columns\n",
    "    if col in ['Annual Income', 'Age', '# of dependants', 'Body Mass Index'] or\n",
    "    any(col.startswith(cat_col) for cat_col in categorical_columns)\n",
    "]\n",
    "\n",
    "# Compute correlation matrix : Refer - https://pandas.pydata.org/docs/reference/api/pandas.DataFrame.corr.html\n",
    "correlation_matrix = None\n",
    "# YOUR CODE HERE\n",
    "# Placeholder replaced with actual implementation\n",
    "\n",
    "# Extract BMI correlations\n",
    "bmi_correlation = None\n",
    "\n",
    "# YOUR CODE HERE\n",
    "# Placeholder replaced with actual implementation\n",
    "display(bmi_correlation)"
   ]
  },
  {
   "cell_type": "code",
   "execution_count": null,
   "id": "6af77dbb-ef24-4115-b001-ee94d6f137ea",
   "metadata": {
    "deletable": false,
    "editable": false,
    "nbgrader": {
     "cell_type": "code",
     "checksum": "37b7dff1d865d8fa33ac2d18173c4be7",
     "grade": true,
     "grade_id": "cell-9229f03416785955",
     "locked": true,
     "points": 2,
     "schema_version": 3,
     "solution": false,
     "task": false
    }
   },
   "outputs": [],
   "source": [
    "assert isinstance(bmi_correlation, pd.Series)\n",
    "assert np.isclose(bmi_correlation[\"Gender_M\"], 0.347182, rtol=1e-3)\n"
   ]
  },
  {
   "cell_type": "markdown",
   "id": "a4c340d0-45f2-47ed-97a6-d1bca918c10e",
   "metadata": {},
   "source": [
    "Now, we need to select the top 5 parameters which affect the BMI from the above results."
   ]
  },
  {
   "cell_type": "code",
   "execution_count": null,
   "id": "bd699100-5538-4722-a950-1f6331ef600f",
   "metadata": {
    "deletable": false,
    "nbgrader": {
     "cell_type": "code",
     "checksum": "ab2d6b9f27df9496e73f23921b1497a3",
     "grade": false,
     "grade_id": "cell-506072a5c257549b",
     "locked": false,
     "schema_version": 3,
     "solution": true,
     "task": false
    }
   },
   "outputs": [],
   "source": [
    "# Exclude self-correlation and select top 3 based on absolute correlation values in order\n",
    "\n",
    "top_correlated_columns = None\n",
    "# YOUR CODE HERE\n",
    "# Placeholder replaced with actual implementation"
   ]
  },
  {
   "cell_type": "code",
   "execution_count": null,
   "id": "b391ac2b-6b7d-4a4d-b84d-bb9d35767c4d",
   "metadata": {
    "deletable": false,
    "editable": false,
    "nbgrader": {
     "cell_type": "code",
     "checksum": "e6b178cb2b3a4a7da20a1c7435178db9",
     "grade": true,
     "grade_id": "cell-a083ec1eda8a8ca0",
     "locked": true,
     "points": 2,
     "schema_version": 3,
     "solution": false,
     "task": false
    }
   },
   "outputs": [],
   "source": [
    "assert len(top_correlated_columns) == 5"
   ]
  },
  {
   "cell_type": "markdown",
   "id": "aa4ffa2a-dd37-4b9c-900b-30607eee6591",
   "metadata": {},
   "source": [
    "For each missing BMI value, we calculate the mean BMI based on the group of records that share the same selected columns.\n",
    "\n",
    "Note: If there are numeric columns, such as Annual Income, they need to be either converted into a range/group or a similarity-based selection technique should be applied.\n",
    "\n",
    "### Clustering\n",
    "We will use KMeans clustering based on the selected columns. The cluster representative will be the mean of the features, and this mean will be used to fill the missing BMI values.\n",
    "\n"
   ]
  },
  {
   "cell_type": "code",
   "execution_count": null,
   "id": "abb869ee-973a-4e0b-a1bd-3fb34399e7a2",
   "metadata": {},
   "outputs": [],
   "source": [
    "from sklearn.cluster import KMeans\n",
    "from sklearn.preprocessing import MinMaxScaler"
   ]
  },
  {
   "cell_type": "markdown",
   "id": "13090b22-d947-4cf2-bce2-73950cc2179a",
   "metadata": {},
   "source": [
    "### K-means\n",
    "#### Scaling\n",
    "Since KMeans results are affected by the magnitude of the input values, it is important to scale, normalize, or standardize the input features to achieve better clustering results. If you think your selected columns do not need scaling, simply clear the raised Exception below\n",
    "\n",
    "For K means algorithm, we will use sklearn library. Refer: https://scikit-learn.org/1.5/modules/generated/sklearn.cluster.KMeans.html"
   ]
  },
  {
   "cell_type": "code",
   "execution_count": null,
   "id": "f7eff971-485e-4381-9517-05cf92733c3b",
   "metadata": {
    "deletable": false,
    "nbgrader": {
     "cell_type": "code",
     "checksum": "0a54610c1bb3a584e61f49271cedeb98",
     "grade": false,
     "grade_id": "cell-ca26ddda242a02fe",
     "locked": false,
     "schema_version": 3,
     "solution": true,
     "task": false
    }
   },
   "outputs": [],
   "source": [
    "scaler = MinMaxScaler()\n",
    "# YOUR CODE HERE\n",
    "# Placeholder replaced with actual implementation\n",
    "\n",
    "\n",
    "# Use KMeans clustering to group similar records based on Age and Normalized Income\n",
    "kmeans = KMeans(n_clusters=5, random_state=42)\n",
    "\n",
    "\n",
    "data_encoded['Cluster'] = kmeans.fit_predict(data_encoded[top_correlated_columns])\n",
    "\n",
    "# Loop through each cluster and fill missing BMI values with the mean BMI of the cluster\n",
    "for cluster in data_encoded['Cluster'].unique():\n",
    "    cluster_bmi_mean = None\n",
    "\n",
    "    # YOUR CODE HERE\n",
    "    # Placeholder replaced with actual implementation\n",
    "    \n",
    "    # Fill missing BMI values with the calculated mean BMI for the cluster\n",
    "    data_encoded.loc[(data_encoded['Cluster'] == cluster) & (data_encoded['Body Mass Index'].isna()), 'Body Mass Index'] = cluster_bmi_mean\n",
    "\n",
    "final_clean_df['Body Mass Index'] = data_encoded['Body Mass Index']"
   ]
  },
  {
   "cell_type": "code",
   "execution_count": null,
   "id": "fcb4ad26-265c-452e-8375-c04903d64a50",
   "metadata": {
    "deletable": false,
    "editable": false,
    "nbgrader": {
     "cell_type": "code",
     "checksum": "7bc488050d436a1e19a1a692853af208",
     "grade": true,
     "grade_id": "cell-24e0c3fc6b22962f",
     "locked": true,
     "points": 2,
     "schema_version": 3,
     "solution": false,
     "task": false
    }
   },
   "outputs": [],
   "source": [
    "assert isinstance(final_clean_df, pd.DataFrame)\n"
   ]
  },
  {
   "cell_type": "markdown",
   "id": "7e2cc6f3-2177-45ca-ad40-eb1bef853283",
   "metadata": {},
   "source": [
    "## Data Visualization / Exploration\n",
    "\n",
    "Below we will create some visualizations using our cleaned data.\n",
    "\n",
    "We will use matplotlib to plot different types of graphs"
   ]
  },
  {
   "cell_type": "markdown",
   "id": "0eeda0e2-548a-4a8a-90cf-6ac427959760",
   "metadata": {},
   "source": [
    "Let us have some look on the distribution of our sample data"
   ]
  },
  {
   "cell_type": "code",
   "execution_count": null,
   "id": "e94fafbf-7356-4541-90fb-f01d042ac46b",
   "metadata": {},
   "outputs": [],
   "source": [
    "# Visualize: Distribution of Age\n",
    "plt.figure(figsize=(8, 6))\n",
    "plt.hist(final_clean_df['Age'], bins=5, color='black', edgecolor='white')\n",
    "plt.title('Distribution of Age')\n",
    "plt.xlabel('Age')\n",
    "plt.ylabel('Frequency')\n",
    "plt.show()"
   ]
  },
  {
   "cell_type": "code",
   "execution_count": null,
   "id": "755ad887-f8ce-4cd4-bc6e-3100e16cfc7f",
   "metadata": {
    "deletable": false,
    "nbgrader": {
     "cell_type": "code",
     "checksum": "dee650623a2284b73d20755a4102ecef",
     "grade": true,
     "grade_id": "cell-eb6ea737ae5dfaa9",
     "locked": false,
     "points": 1,
     "schema_version": 3,
     "solution": true,
     "task": false
    }
   },
   "outputs": [],
   "source": [
    "# Visualize: Distribution of Job status\n",
    "\n",
    "# YOUR CODE HERE\n",
    "# Placeholder replaced with actual implementation"
   ]
  },
  {
   "cell_type": "code",
   "execution_count": null,
   "id": "2e7f5210-b85a-43f2-a6a8-ac48049eaedd",
   "metadata": {
    "deletable": false,
    "nbgrader": {
     "cell_type": "code",
     "checksum": "c7a9b52ad0be41e051d7e0e14ac235f4",
     "grade": true,
     "grade_id": "cell-56c22a03cfc21a62",
     "locked": false,
     "points": 1,
     "schema_version": 3,
     "solution": true,
     "task": false
    }
   },
   "outputs": [],
   "source": [
    "# Visualize: Distribution of Annual Income\n",
    "\n",
    "# YOUR CODE HERE\n",
    "# Placeholder replaced with actual implementation"
   ]
  },
  {
   "cell_type": "code",
   "execution_count": null,
   "id": "164a7b6f-0e28-4442-b3cb-1e2aa5cf4bc3",
   "metadata": {
    "deletable": false,
    "nbgrader": {
     "cell_type": "code",
     "checksum": "96f7fd740984ecd68cb96e8ace29a053",
     "grade": true,
     "grade_id": "cell-a836c1d4bb71700a",
     "locked": false,
     "points": 1,
     "schema_version": 3,
     "solution": true,
     "task": false
    }
   },
   "outputs": [],
   "source": [
    "# Visualize: Distribution of Number of Dependants\n",
    "\n",
    "# YOUR CODE HERE\n",
    "# Placeholder replaced with actual implementation"
   ]
  },
  {
   "cell_type": "markdown",
   "id": "e90a037a-d129-42ea-850d-f882c96b88a5",
   "metadata": {},
   "source": [
    "### A. Analyzing Spending Habits and Their Relationship with Age\n",
    "\n",
    "We will try to visually deduce how a person's spending habbits varies with age."
   ]
  },
  {
   "cell_type": "code",
   "execution_count": null,
   "id": "c74585b0-0647-458d-b648-f3314814d1de",
   "metadata": {},
   "outputs": [],
   "source": [
    "# Visualize: Average Monthly Expenditure by Age\n",
    "plt.figure(figsize=(8, 6))\n",
    "plt.scatter(final_clean_df['Age'], final_clean_df['Avg Monthly Expenditure'], color='green')\n",
    "plt.title('Average Monthly Expenditure by Age')\n",
    "plt.xlabel('Age')\n",
    "plt.ylabel('Avg Monthly Expenditure')\n",
    "plt.show()"
   ]
  },
  {
   "cell_type": "markdown",
   "id": "7f31dc57-8fb5-4fa3-b9fe-b7ddd160d1eb",
   "metadata": {},
   "source": [
    "### B. Analyzing Spending Habits and Their Relationship with Weekly Income\n",
    "\n",
    "We will try to visually deduce how a person's spending habbits varies with their income."
   ]
  },
  {
   "cell_type": "code",
   "execution_count": null,
   "id": "49a71339-b95a-4153-becc-40d3439157a1",
   "metadata": {
    "deletable": false,
    "nbgrader": {
     "cell_type": "code",
     "checksum": "77a39b6fae20b2969c9e452c61fead1c",
     "grade": true,
     "grade_id": "cell-a171b8352c8af78e",
     "locked": false,
     "points": 1,
     "schema_version": 3,
     "solution": true,
     "task": false
    }
   },
   "outputs": [],
   "source": [
    "# Visualize: Weekly Wage vs. Avg Monthly Expenditure\n",
    "# YOUR CODE HERE\n",
    "# Placeholder replaced with actual implementation"
   ]
  },
  {
   "cell_type": "code",
   "execution_count": null,
   "id": "d6e531df-cc48-499a-9d1a-bca1861e79de",
   "metadata": {
    "deletable": false,
    "nbgrader": {
     "cell_type": "code",
     "checksum": "1f7e2b0967b47eda9e35c9b6598a9c08",
     "grade": true,
     "grade_id": "cell-715e17a9c9bbcba3",
     "locked": false,
     "points": 1,
     "schema_version": 3,
     "solution": true,
     "task": false
    }
   },
   "outputs": [],
   "source": [
    "# Write short observation based on above plot\n",
    "observation = \"\"\n",
    "# YOUR CODE HERE\n",
    "# Placeholder replaced with actual implementation\n",
    "\n",
    "print(observation)"
   ]
  },
  {
   "cell_type": "markdown",
   "id": "12e709ec-12c9-4a9d-b11c-938e9ebded80",
   "metadata": {},
   "source": [
    "### C. Analyzing Health (BMI) and it's relationship to Income, Age, Employment Status and Marital Status\n"
   ]
  },
  {
   "cell_type": "code",
   "execution_count": null,
   "id": "9ef31d04-3d8d-401f-9bef-b41c34fbd245",
   "metadata": {
    "deletable": false,
    "nbgrader": {
     "cell_type": "code",
     "checksum": "7df3a15387d2eeca125bf7de268b3ece",
     "grade": true,
     "grade_id": "cell-77234ca6324c6643",
     "locked": false,
     "points": 1,
     "schema_version": 3,
     "solution": true,
     "task": false
    }
   },
   "outputs": [],
   "source": [
    "# YOUR CODE HERE\n",
    "# Placeholder replaced with actual implementation"
   ]
  },
  {
   "cell_type": "code",
   "execution_count": null,
   "id": "42a827b6-6a7d-4455-9732-0f30efa083cf",
   "metadata": {
    "deletable": false,
    "nbgrader": {
     "cell_type": "code",
     "checksum": "ca7ddc8f7858a2149fb141935ce88ad5",
     "grade": true,
     "grade_id": "cell-1df1c49eca6be4c2",
     "locked": false,
     "points": 1,
     "schema_version": 3,
     "solution": true,
     "task": false
    }
   },
   "outputs": [],
   "source": [
    "# Write short observation based on above plot\n",
    "observation = \"\"\n",
    "# YOUR CODE HERE\n",
    "# Placeholder replaced with actual implementation\n",
    "\n",
    "print(observation)"
   ]
  },
  {
   "cell_type": "code",
   "execution_count": null,
   "id": "1e77e596-702f-4223-b0c5-451880dad9da",
   "metadata": {
    "deletable": false,
    "nbgrader": {
     "cell_type": "code",
     "checksum": "078cffbd3a519b537fdc7c8478171b44",
     "grade": true,
     "grade_id": "cell-633a800f40f7ede2",
     "locked": false,
     "points": 1,
     "schema_version": 3,
     "solution": true,
     "task": false
    }
   },
   "outputs": [],
   "source": [
    "# Visualize: BMI vs Income\n",
    "\n",
    "# YOUR CODE HERE\n",
    "# Placeholder replaced with actual implementation"
   ]
  },
  {
   "cell_type": "code",
   "execution_count": null,
   "id": "c3155e20-2de4-4031-b8f1-9971d90ac808",
   "metadata": {
    "deletable": false,
    "nbgrader": {
     "cell_type": "code",
     "checksum": "08ef43582b8064287f0d4081ea3488dd",
     "grade": true,
     "grade_id": "cell-94b506929e8ec620",
     "locked": false,
     "points": 1,
     "schema_version": 3,
     "solution": true,
     "task": false
    }
   },
   "outputs": [],
   "source": [
    "# Write short observation based on above plot\n",
    "observation = \"\"\n",
    "# YOUR CODE HERE\n",
    "# Placeholder replaced with actual implementation\n",
    "\n",
    "print(observation)"
   ]
  },
  {
   "cell_type": "code",
   "execution_count": null,
   "id": "a4aaee8b-f588-4016-918d-b351445c90a6",
   "metadata": {},
   "outputs": [],
   "source": [
    "# Visualize: BMI vs Age\n",
    "\n",
    "plt.figure(figsize=(8, 6))\n",
    "plt.bar(final_clean_df['Age'], final_clean_df['Body Mass Index'],  color='red')\n",
    "plt.title('Age vs. Body Mass Index')\n",
    "plt.xlabel('Age')\n",
    "plt.ylabel('Body Mass Index')\n",
    "plt.show()"
   ]
  },
  {
   "cell_type": "code",
   "execution_count": null,
   "id": "0fdd87d7-9c25-4d32-afd1-ef793d9b78b2",
   "metadata": {
    "deletable": false,
    "nbgrader": {
     "cell_type": "code",
     "checksum": "c9229e6aa7a0d005e0594c7a758fe81e",
     "grade": true,
     "grade_id": "cell-4020c13e6761cb4c",
     "locked": false,
     "points": 1,
     "schema_version": 3,
     "solution": true,
     "task": false
    }
   },
   "outputs": [],
   "source": [
    "# Write short observation based on above plot\n",
    "observation = \"\"\n",
    "# YOUR CODE HERE\n",
    "# Placeholder replaced with actual implementation\n",
    "\n",
    "print(observation)"
   ]
  },
  {
   "cell_type": "code",
   "execution_count": null,
   "id": "71306575-3b3b-483c-9f7a-77cbcc8e301e",
   "metadata": {},
   "outputs": [],
   "source": [
    "# Visualize: BMI vs Gender\n",
    "\n",
    "plt.figure(figsize=(8, 6))\n",
    "plt.bar(final_clean_df['Gender'], final_clean_df['Body Mass Index'],  color='pink')\n",
    "plt.title('Gender vs. Body Mass Index')\n",
    "plt.xlabel('Gender')\n",
    "plt.ylabel('Body Mass Index')\n",
    "\n",
    "plt.grid()\n",
    "plt.show()"
   ]
  },
  {
   "cell_type": "code",
   "execution_count": null,
   "id": "0ffa3583-2e99-424f-aeb6-6e849e9f63f7",
   "metadata": {
    "deletable": false,
    "nbgrader": {
     "cell_type": "code",
     "checksum": "ca0b295578ec6239f69df62fc4313bcf",
     "grade": true,
     "grade_id": "cell-4020c13e6761cb4r",
     "locked": false,
     "points": 1,
     "schema_version": 3,
     "solution": true,
     "task": false
    }
   },
   "outputs": [],
   "source": [
    "# Write short observation based on above plot\n",
    "observation = \"\"\n",
    "# YOUR CODE HERE\n",
    "# Placeholder replaced with actual implementation\n",
    "\n",
    "print(observation)"
   ]
  },
  {
   "cell_type": "code",
   "execution_count": null,
   "id": "34abf2a1-18fd-42ab-b9d1-1964824c53f4",
   "metadata": {},
   "outputs": [],
   "source": []
  }
 ],
 "metadata": {
  "kernelspec": {
   "display_name": "Python 3 (ipykernel)",
   "language": "python",
   "name": "python3"
  },
  "language_info": {
   "codemirror_mode": {
    "name": "ipython",
    "version": 3
   },
   "file_extension": ".py",
   "mimetype": "text/x-python",
   "name": "python",
   "nbconvert_exporter": "python",
   "pygments_lexer": "ipython3",
   "version": "3.10.12"
  }
 },
 "nbformat": 4,
 "nbformat_minor": 5
}
